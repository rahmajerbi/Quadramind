{
 "cells": [
  {
   "cell_type": "code",
   "execution_count": 1,
   "metadata": {},
   "outputs": [],
   "source": [
    "def categorize_blood_pressure(sbp, dbp):\n",
    "    if sbp > 180 or dbp > 120:\n",
    "        return \"Hypertensive Crisis\"\n",
    "    elif sbp >= 140 or dbp >= 90:\n",
    "        return \"Hypertension Stage 2\"\n",
    "    elif sbp >= 130 or dbp >= 80:\n",
    "        return \"Hypertension Stage 1\"\n",
    "    elif 120 <= sbp <= 129 and dbp < 80:\n",
    "        return \"Elevated\"\n",
    "    elif sbp < 120 and dbp < 80:\n",
    "        return \"Normal\"\n",
    "    else:\n",
    "        return \"Uncategorized\""
   ]
  }
 ],
 "metadata": {
  "kernelspec": {
   "display_name": "base",
   "language": "python",
   "name": "python3"
  },
  "language_info": {
   "codemirror_mode": {
    "name": "ipython",
    "version": 3
   },
   "file_extension": ".py",
   "mimetype": "text/x-python",
   "name": "python",
   "nbconvert_exporter": "python",
   "pygments_lexer": "ipython3",
   "version": "3.9.18"
  }
 },
 "nbformat": 4,
 "nbformat_minor": 2
}
