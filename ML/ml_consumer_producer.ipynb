{
 "cells": [
  {
   "cell_type": "code",
   "execution_count": null,
   "metadata": {},
   "outputs": [],
   "source": [
    "from kafka import KafkaConsumer\n",
    "from kafka import KafkaProducer\n",
    "import sys\n",
    "import json\n",
    "import time\n",
    "import joblib\n",
    "import pandas as pd\n",
    "%run CategorizeBloodPressure.ipynb  # Execute the notebook"
   ]
  },
  {
   "cell_type": "code",
   "execution_count": null,
   "metadata": {},
   "outputs": [],
   "source": [
    "\n",
    "# Setting up the Python consumer\n",
    "bootstrap_servers = ['localhost:9092']\n",
    "input_topic = 'Topic_A'\n",
    "output_topic = 'Topic_C'  # Topic for ML model output\n",
    "#group_id = 'my_group_id1'\n",
    "consumer = KafkaConsumer(input_topic, bootstrap_servers=bootstrap_servers,\n",
    "                         auto_offset_reset='earliest', value_deserializer=lambda x: json.loads(x.decode('utf-8')))\n",
    "\n",
    "# Setting up the Kafka producer for ML model output\n",
    "#ml_producer = KafkaProducer(bootstrap_servers=bootstrap_servers)\n",
    "ml_producer = KafkaProducer(bootstrap_servers=bootstrap_servers, value_serializer=lambda v: json.dumps(v).encode('utf-8'))\n"
   ]
  },
  {
   "cell_type": "code",
   "execution_count": null,
   "metadata": {},
   "outputs": [],
   "source": [
    "# Load the regression model\n",
    "regression_model = joblib.load('regression_model.joblib')"
   ]
  },
  {
   "cell_type": "code",
   "execution_count": null,
   "metadata": {},
   "outputs": [],
   "source": [
    "# Reading messages from the input topic and producing results to the output topic\n",
    "try:\n",
    "    for message in consumer:\n",
    "        input_data = message.value\n",
    "        print(f\"Received input data: {input_data}\")\n",
    "\n",
    "\n",
    "        # Extract features based on your input data\n",
    "        selected_features_sbp = [input_data.get(\"PP\", \"\"), input_data.get(\"CO\", \"\")]\n",
    "        selected_features_dbp = [input_data.get(\"PP\", \"\"), input_data.get(\"CO\", \"\")]\n",
    "\n",
    "        # Create a DataFrame with the selected features\n",
    "        features_sbp = pd.DataFrame([selected_features_sbp], columns=['PP', 'CO'])\n",
    "        features_dbp = pd.DataFrame([selected_features_dbp], columns=['PP', 'CO'])\n",
    "\n",
    "        # Make predictions using the regression model\n",
    "        prediction_sbp_dbp = regression_model.predict(pd.concat([features_sbp, features_dbp], axis=1))\n",
    "\n",
    "        # Create the result dictionary\n",
    "        prediction_result = {\n",
    "            \"Predicted_SBP\": prediction_sbp_dbp[0, 0],\n",
    "            \"Predicted_DBP\": prediction_sbp_dbp[0, 1],\n",
    "            \"BloodPressureCategory\": categorize_blood_pressure(prediction_sbp_dbp[0, 0], prediction_sbp_dbp[0, 1])\n",
    "        }\n",
    "\n",
    "        # Concatenate input_data and prediction_result\n",
    "        output_data = {**input_data, **prediction_result}\n",
    "\n",
    "        print(f\"Prediction result and and blood pressure category: {output_data}\")\n",
    "\n",
    "        # Produce the result to the output topic\n",
    "        ml_producer.send(output_topic, value=output_data)\n",
    "\n",
    "except KeyboardInterrupt:\n",
    "    pass\n",
    "\n",
    "finally:\n",
    "    #Close the consumer and producer\n",
    "    consumer.close()\n",
    "    ml_producer.close()"
   ]
  }
 ],
 "metadata": {
  "kernelspec": {
   "display_name": "base",
   "language": "python",
   "name": "python3"
  },
  "language_info": {
   "codemirror_mode": {
    "name": "ipython",
    "version": 3
   },
   "file_extension": ".py",
   "mimetype": "text/x-python",
   "name": "python",
   "nbconvert_exporter": "python",
   "pygments_lexer": "ipython3",
   "version": "3.9.18"
  }
 },
 "nbformat": 4,
 "nbformat_minor": 2
}
