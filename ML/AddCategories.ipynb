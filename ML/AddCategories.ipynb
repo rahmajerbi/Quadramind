{
 "cells": [
  {
   "cell_type": "code",
   "execution_count": 1,
   "metadata": {},
   "outputs": [
    {
     "name": "stdout",
     "output_type": "stream",
     "text": [
      "                       RR   SPO2   MAP   SBP   DBP     HR    PP       CO\n",
      "2020-10-18 15:24:25  35.0   99.9   0.0   0.0   0.0  106.9   0.0     0.00\n",
      "2020-10-18 15:25:25  36.4  100.0  87.0  98.9  63.1  107.3  35.8  3841.34\n",
      "2020-10-18 15:26:25  35.2  100.0  75.2  97.9  63.0  107.5  34.9  3751.75\n",
      "2020-10-18 15:27:25  34.0  100.0  74.8  97.2  62.5  107.0  34.7  3712.90\n",
      "2020-10-18 15:28:25  34.9  100.0  74.0  96.0  62.0  107.0  34.0  3638.00\n"
     ]
    }
   ],
   "source": [
    "import pandas as pd\n",
    "import matplotlib.pyplot as plt\n",
    "# Import dataset\n",
    "df = pd.read_csv(\"C:\\\\Users\\\\DELL5490\\\\Desktop\\\\Master2\\\\Quadramind\\\\Quadramind\\\\Kafka\\\\mimic_2425.csv\", parse_dates = True, index_col = 0)\n",
    "print (df.head())\n",
    "df = pd.DataFrame(df)\n",
    "\n"
   ]
  },
  {
   "cell_type": "code",
   "execution_count": 7,
   "metadata": {},
   "outputs": [
    {
     "name": "stdout",
     "output_type": "stream",
     "text": [
      "                       RR   SPO2   MAP   SBP   DBP     HR    PP       CO  \\\n",
      "2020-10-18 15:24:25  35.0   99.9   0.0   0.0   0.0  106.9   0.0     0.00   \n",
      "2020-10-18 15:25:25  36.4  100.0  87.0  98.9  63.1  107.3  35.8  3841.34   \n",
      "2020-10-18 15:26:25  35.2  100.0  75.2  97.9  63.0  107.5  34.9  3751.75   \n",
      "2020-10-18 15:27:25  34.0  100.0  74.8  97.2  62.5  107.0  34.7  3712.90   \n",
      "2020-10-18 15:28:25  34.9  100.0  74.0  96.0  62.0  107.0  34.0  3638.00   \n",
      "...                   ...    ...   ...   ...   ...    ...   ...      ...   \n",
      "2020-10-27 13:56:25  16.2   95.8  61.1  79.7  51.1  104.6  28.6  2991.56   \n",
      "2020-10-27 13:57:25  17.4   96.0  61.5  80.4  51.4  104.1  29.0  3018.90   \n",
      "2020-10-27 13:58:25  17.3   96.0  59.8  78.5  50.3  103.9  28.2  2929.98   \n",
      "2020-10-27 13:59:25  16.0   95.9  60.1  78.0  50.4  103.1  27.6  2845.56   \n",
      "2020-10-27 14:00:25  15.2   96.0  61.8  80.7  51.9  104.7  28.8  3015.36   \n",
      "\n",
      "                      Class  \n",
      "2020-10-18 15:24:25  Normal  \n",
      "2020-10-18 15:25:25  Normal  \n",
      "2020-10-18 15:26:25  Normal  \n",
      "2020-10-18 15:27:25  Normal  \n",
      "2020-10-18 15:28:25  Normal  \n",
      "...                     ...  \n",
      "2020-10-27 13:56:25  Normal  \n",
      "2020-10-27 13:57:25  Normal  \n",
      "2020-10-27 13:58:25  Normal  \n",
      "2020-10-27 13:59:25  Normal  \n",
      "2020-10-27 14:00:25  Normal  \n",
      "\n",
      "[12877 rows x 9 columns]\n"
     ]
    }
   ],
   "source": [
    "# Categorize the data records\n",
    "def categorize_blood_pressure(row):\n",
    "    sbp = row[\"SBP\"]\n",
    "    dbp = row[\"DBP\"]\n",
    "    \n",
    "    if sbp > 180 or dbp > 120:\n",
    "        return \"Hypertensive Crisis\"\n",
    "    elif sbp >= 140 or dbp >= 90:\n",
    "        return \"Hypertension Stage 2\"\n",
    "    elif sbp >= 130 or dbp >= 80:\n",
    "        return \"Hypertension Stage 1\"\n",
    "    elif 120 <= sbp <= 130 and dbp < 80:\n",
    "        return \"Elevated\"\n",
    "    elif sbp < 120 and dbp < 80:\n",
    "        return \"Normal\"\n",
    "    else:\n",
    "        return \"Uncategorized\"\n",
    "\n",
    "# Apply the categorize_blood_pressure function to each row and create a new 'Category' column\n",
    "df[\"Class\"] = df.apply(categorize_blood_pressure, axis=1)\n",
    "\n",
    "# Print the updated DataFrame\n",
    "print(df)\n"
   ]
  },
  {
   "cell_type": "code",
   "execution_count": 8,
   "metadata": {},
   "outputs": [],
   "source": [
    "# Export the DataFrame to a new CSV file\n",
    "df.to_csv(\"mimic_final.csv\", index=False)"
   ]
  },
  {
   "cell_type": "code",
   "execution_count": 9,
   "metadata": {},
   "outputs": [
    {
     "data": {
      "image/png": "[encoded data removed]",
      "text/plain": [
       "<Figure size 432x288 with 1 Axes>"
      ]
     },
     "metadata": {
      "needs_background": "light"
     },
     "output_type": "display_data"
    }
   ],
   "source": [
    "# Plot histograms for each category\n",
    "df['Class'].value_counts().plot(kind='bar', color='skyblue')\n",
    "plt.title('Distribution of Instances by Category')\n",
    "plt.xlabel('Class')\n",
    "plt.ylabel('Count')\n",
    "plt.show()"
   ]
  },
  {
   "cell_type": "code",
   "execution_count": 16,
   "metadata": {},
   "outputs": [
    {
     "data": {
      "text/html": [
       "<style  type=\"text/css\" >\n",
       "    #T_270b3_ thead {\n",
       "          background-color: lightgrey;\n",
       "    }#T_270b3_row0_col0,#T_270b3_row1_col0,#T_270b3_row2_col0,#T_270b3_row3_col0,#T_270b3_row4_col0{\n",
       "            text-align:  center;\n",
       "        }#T_270b3_row0_col1{\n",
       "            background-color:  #08306b;\n",
       "            color:  #f1f1f1;\n",
       "            text-align:  center;\n",
       "        }#T_270b3_row1_col1{\n",
       "            background-color:  #f4f9fe;\n",
       "            color:  #000000;\n",
       "            text-align:  center;\n",
       "        }#T_270b3_row2_col1,#T_270b3_row3_col1,#T_270b3_row4_col1{\n",
       "            background-color:  #f7fbff;\n",
       "            color:  #000000;\n",
       "            text-align:  center;\n",
       "        }</style><table id=\"T_270b3_\" ><caption>Distribution Table</caption><thead>    <tr>        <th class=\"blank level0\" ></th>        <th class=\"col_heading level0 col0\" >Class</th>        <th class=\"col_heading level0 col1\" >Count</th>    </tr></thead><tbody>\n",
       "                <tr>\n",
       "                        <th id=\"T_270b3_level0_row0\" class=\"row_heading level0 row0\" >0</th>\n",
       "                        <td id=\"T_270b3_row0_col0\" class=\"data row0 col0\" >Normal</td>\n",
       "                        <td id=\"T_270b3_row0_col1\" class=\"data row0 col1\" >12635</td>\n",
       "            </tr>\n",
       "            <tr>\n",
       "                        <th id=\"T_270b3_level0_row1\" class=\"row_heading level0 row1\" >1</th>\n",
       "                        <td id=\"T_270b3_row1_col0\" class=\"data row1 col0\" >Elevated</td>\n",
       "                        <td id=\"T_270b3_row1_col1\" class=\"data row1 col1\" >227</td>\n",
       "            </tr>\n",
       "            <tr>\n",
       "                        <th id=\"T_270b3_level0_row2\" class=\"row_heading level0 row2\" >2</th>\n",
       "                        <td id=\"T_270b3_row2_col0\" class=\"data row2 col0\" >Hypertension Stage 1</td>\n",
       "                        <td id=\"T_270b3_row2_col1\" class=\"data row2 col1\" >10</td>\n",
       "            </tr>\n",
       "            <tr>\n",
       "                        <th id=\"T_270b3_level0_row3\" class=\"row_heading level0 row3\" >3</th>\n",
       "                        <td id=\"T_270b3_row3_col0\" class=\"data row3 col0\" >Hypertension Stage 2</td>\n",
       "                        <td id=\"T_270b3_row3_col1\" class=\"data row3 col1\" >3</td>\n",
       "            </tr>\n",
       "            <tr>\n",
       "                        <th id=\"T_270b3_level0_row4\" class=\"row_heading level0 row4\" >4</th>\n",
       "                        <td id=\"T_270b3_row4_col0\" class=\"data row4 col0\" >Hypertensive Crisis</td>\n",
       "                        <td id=\"T_270b3_row4_col1\" class=\"data row4 col1\" >2</td>\n",
       "            </tr>\n",
       "    </tbody></table>"
      ],
      "text/plain": [
       "<pandas.io.formats.style.Styler at 0x299b761cfa0>"
      ]
     },
     "metadata": {},
     "output_type": "display_data"
    }
   ],
   "source": [
    "# Table plot\n",
    "\n",
    "table_data = pd.DataFrame(df['Class'].value_counts()).reset_index()\n",
    "table_data.columns = ['Class', 'Count']\n",
    "styled_table = table_data.style.background_gradient(cmap='Blues', subset=['Count'])\n",
    "styled_table.set_table_styles([\n",
    "    {'selector': 'thead', 'props': [('background-color', 'lightgrey')]}\n",
    "])\n",
    "styled_table.set_properties(**{'text-align': 'center'})\n",
    "styled_table.set_caption('Distribution Table')\n",
    "\n",
    "# Display the table\n",
    "display(styled_table)\n"
   ]
  }
 ],
 "metadata": {
  "kernelspec": {
   "display_name": "base",
   "language": "python",
   "name": "python3"
  },
  "language_info": {
   "codemirror_mode": {
    "name": "ipython",
    "version": 3
   },
   "file_extension": ".py",
   "mimetype": "text/x-python",
   "name": "python",
   "nbconvert_exporter": "python",
   "pygments_lexer": "ipython3",
   "version": "3.8.8"
  }
 },
 "nbformat": 4,
 "nbformat_minor": 2
}
